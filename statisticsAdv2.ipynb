{
 "cells": [
  {
   "cell_type": "markdown",
   "id": "6ced89c8-9b88-4318-b017-f1859026a7bd",
   "metadata": {},
   "source": [
    "Q1: What are the Probability Mass Function (PMF) and Probability Density Function (PDF)? Explain with\n",
    "an example."
   ]
  },
  {
   "cell_type": "code",
   "execution_count": null,
   "id": "25a2f18e-7683-48a8-b452-414b66ad451b",
   "metadata": {},
   "outputs": [],
   "source": [
    "Ans:-PMF:-\n",
    "        The Probability Mass Function (PMF) and Probability Density Function (PDF) are mathematical functions used \n",
    "           to describe the probability distribution of a discrete random variable and a continuous random variable.\n",
    "        ex----\n",
    "        A die is thrown.\n",
    "        P={1,2,3,4,5,6}\n",
    "        PMF(1) = 1/6, PMF(2) = 1/6, PMF(3) = 1/6, PMF(4) = 1/6, PMF(5) = 1/6, PMF(6) = 1/6.\n",
    "        \n",
    "    PDF:-\n",
    "       The PDF is used to describe the probability distribution of a continuous random variable. "
   ]
  },
  {
   "cell_type": "markdown",
   "id": "ca3d0d09-e5d2-4107-b18f-0f84a711c9c7",
   "metadata": {},
   "source": [
    "Q2: What is Cumulative Density Function (CDF)? Explain with an example. Why CDF is used?"
   ]
  },
  {
   "cell_type": "code",
   "execution_count": null,
   "id": "7fd8dec0-3f0a-4d63-a5c7-92c9bfab616a",
   "metadata": {},
   "outputs": [],
   "source": [
    "Ans:-The Cumulative Density Function (CDF) is a mathematical function that provides\n",
    "         the cumulative probability distribution of a random variable.\n",
    "    ex----\n",
    "    The CDF for the die roll can be calculated as follows:\n",
    "CDF(1) = PMF(1) = 1/6\n",
    "CDF(2) = CDF(1) + PMF(2) = 1/6 + 1/6 = 1/3\n",
    "CDF(3) = CDF(2) + PMF(3) = 1/3 + 1/6 = 1/2\n",
    "CDF(4) = CDF(3) + PMF(4) = 1/2 + 1/6 = 2/3\n",
    "CDF(5) = CDF(4) + PMF(5) = 2/3 + 1/6 = 5/6\n",
    "CDF(6) = CDF(5) + PMF(6) = 5/6 + 1/6 = 1\n",
    "\n",
    "    CDF used:-\n",
    "    i.calculating probability\n",
    "      ii.determine percentile\n",
    "        iii.hypothesis testing\n",
    "    "
   ]
  },
  {
   "cell_type": "markdown",
   "id": "f1a61b45-947b-402a-b08d-70fcd12669cd",
   "metadata": {},
   "source": [
    "Q3: What are some examples of situations where the normal distribution might be used as a model?\n",
    "Explain how the parameters of the normal distribution relate to the shape of the distribution."
   ]
  },
  {
   "cell_type": "code",
   "execution_count": null,
   "id": "ef925c17-f9b0-42ee-a9e7-d70e110eecc4",
   "metadata": {},
   "outputs": [],
   "source": [
    "Ans:-The normal distribution, also known as the Gaussian distribution or bell curve.\n",
    "      ex-----\n",
    "       i.height of individual\n",
    "        ii.measurnment error\n",
    "          iii.random variation\n",
    "            \n",
    "        These parameters determine the shape of the distribution as follows:\n",
    "            i.mean\n",
    "             ii.std.deviation"
   ]
  },
  {
   "cell_type": "markdown",
   "id": "7c0306f5-42de-49c0-a94e-92c147c12d02",
   "metadata": {},
   "source": [
    "Q4: Explain the importance of Normal Distribution. Give a few real-life examples of Normal\n",
    "Distribution."
   ]
  },
  {
   "cell_type": "code",
   "execution_count": null,
   "id": "e7697ff2-f4d1-4413-b1a4-45fe5db6b460",
   "metadata": {},
   "outputs": [],
   "source": [
    "Ans:-The normal distribution is also called as bell curve,gaussion distribution.\n",
    "      i.central limit theorem (CLT)\n",
    "       ii.ststistical inference\n",
    "        iii.data analysis & modelling\n",
    "        \n",
    "        The real-life examples of Normal Distribution:-\n",
    "          i.heights of individual\n",
    "            ii.exam score\n",
    "              iii.measurnment error\n",
    "                iv.financial return"
   ]
  },
  {
   "cell_type": "markdown",
   "id": "e5ff700e-0642-4c98-8859-ca47b4b7aa4c",
   "metadata": {},
   "source": [
    "Q5: What is Bernaulli Distribution? Give an Example. What is the difference between Bernoulli\n",
    "Distribution and Binomial Distribution?"
   ]
  },
  {
   "cell_type": "code",
   "execution_count": null,
   "id": "f4ab8be3-a2eb-4753-b243-d51fdf6c2ecd",
   "metadata": {},
   "outputs": [],
   "source": [
    "Ans:-\n",
    "     The Bernoulli distribution is a discrete probability distribution that models a single binary (yes/no, success/failure)\n",
    "        random variable with two possible outcomes.\n",
    "        \n",
    "        Bernoulli Distribution:   \n",
    "            i.It has a single parameter p, which represents the probability of success.\n",
    "              ii.Single binary random variable with two possible outcomes(yes/no, success/failure).\n",
    "                \n",
    "Binomial Distribution:\n",
    "    i.The random variable follows a binomial distribution if it involves multiple, independent Bernoulli trials.\n",
    "        ii.Deals with the number of successes (or occurrences of an event) in a fixed number of independent Bernoulli trials."
   ]
  },
  {
   "cell_type": "markdown",
   "id": "81c21eee-2727-4731-9e56-28990497da64",
   "metadata": {},
   "source": [
    "Q6. Consider a dataset with a mean of 50 and a standard deviation of 10. If we assume that the dataset\n",
    "is normally distributed, what is the probability that a randomly selected observation will be greater\n",
    "than 60? Use the appropriate formula and show your calculations."
   ]
  },
  {
   "cell_type": "code",
   "execution_count": null,
   "id": "b17f5086-61aa-42fa-bd5d-73f70b341aaf",
   "metadata": {},
   "outputs": [],
   "source": [
    "Ans:-\n",
    "     X =60 \n",
    "      mean = 50 \n",
    "        std.deviation = 10 \n",
    "        \n",
    "        Z-score =X-mean/std.deviation\n",
    "    \n",
    "        Z = (60 - 50) / 10\n",
    "         Z = 1\n",
    "             a standard normal distribution table or calculator\n",
    "                is 0.1587\n",
    "                15.87%"
   ]
  },
  {
   "cell_type": "markdown",
   "id": "7c2bcac8-7606-4df5-89d8-b2c1ba249a04",
   "metadata": {},
   "source": [
    "Q7: Explain uniform Distribution with an example."
   ]
  },
  {
   "cell_type": "code",
   "execution_count": null,
   "id": "ce9a15e9-af47-49ee-8c78-ab0465df3a80",
   "metadata": {},
   "outputs": [],
   "source": [
    "Ans:-The uniform distribution is a continuous probability distribution in which all values \n",
    "        within a given interval are equally likely to occur."
   ]
  },
  {
   "cell_type": "markdown",
   "id": "4a07d91d-b8ff-4f14-91c9-87d0a715a5a4",
   "metadata": {},
   "source": [
    "Q8: What is the z score? State the importance of the z score."
   ]
  },
  {
   "cell_type": "code",
   "execution_count": null,
   "id": "c07db997-da52-4b05-ba20-dc8c5541003d",
   "metadata": {},
   "outputs": [],
   "source": [
    "Ans:-If normal distribution converted into mean-0 & std.deviation-1 this concept we called as \n",
    "       std.normal distribution [Z-score].\n",
    "    \n",
    "     Z-score=X-mean/std.deviation"
   ]
  },
  {
   "cell_type": "markdown",
   "id": "93fbcd5f-0efd-43af-937c-9bee964eb51e",
   "metadata": {},
   "source": [
    "Q9: What is Central Limit Theorem? State the significance of the Central Limit Theorem."
   ]
  },
  {
   "cell_type": "code",
   "execution_count": null,
   "id": "11f25949-4604-4ae4-a333-83d157e0625a",
   "metadata": {},
   "outputs": [],
   "source": [
    "Ans:-The Central Limit Theorem (CLT) is a fundamental concept in probability theory and statistics.\n",
    "      significance of the Central Limit Theorem:-\n",
    "        i.statisticla inference\n",
    "         ii.stability & robustness\n",
    "            iii.eplaination of natural pheomena."
   ]
  },
  {
   "cell_type": "markdown",
   "id": "cb7bcaa6-6b98-401c-aef8-9ebee0e1eee0",
   "metadata": {},
   "source": [
    "Q10: State the assumptions of the Central Limit Theorem."
   ]
  },
  {
   "cell_type": "code",
   "execution_count": null,
   "id": "0ac069fc-40e5-4abf-ab32-bbec06276411",
   "metadata": {},
   "outputs": [],
   "source": [
    "Ans:-"
   ]
  }
 ],
 "metadata": {
  "kernelspec": {
   "display_name": "Python 3 (ipykernel)",
   "language": "python",
   "name": "python3"
  },
  "language_info": {
   "codemirror_mode": {
    "name": "ipython",
    "version": 3
   },
   "file_extension": ".py",
   "mimetype": "text/x-python",
   "name": "python",
   "nbconvert_exporter": "python",
   "pygments_lexer": "ipython3",
   "version": "3.10.8"
  }
 },
 "nbformat": 4,
 "nbformat_minor": 5
}
